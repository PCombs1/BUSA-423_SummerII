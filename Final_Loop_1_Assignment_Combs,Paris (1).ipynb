{
  "nbformat": 4,
  "nbformat_minor": 0,
  "metadata": {
    "colab": {
      "name": "Final - Loop 1 Assignment",
      "provenance": [],
      "collapsed_sections": []
    },
    "kernelspec": {
      "name": "python3",
      "display_name": "Python 3"
    },
    "language_info": {
      "name": "python"
    }
  },
  "cells": [
    {
      "cell_type": "code",
      "execution_count": 2,
      "metadata": {
        "colab": {
          "base_uri": "https://localhost:8080/"
        },
        "id": "2z7D4vZW0cG2",
        "outputId": "a447ddef-236c-43ae-86f0-91e1f90fe164"
      },
      "outputs": [
        {
          "output_type": "stream",
          "name": "stdout",
          "text": [
            "15\n",
            "Guess Again\n",
            "12\n",
            "Guess Again\n",
            "9\n",
            "You Win\n"
          ]
        }
      ],
      "source": [
        "import random \n",
        "sysgennum = random.randint(1,20)\n",
        "\n",
        "for i in range(6):\n",
        "  if i == 5:\n",
        "    print (\"Game Over. Please start over.\")\n",
        "  else: \n",
        "    gameplayernum = int(input())\n",
        "    if sysgennum == gameplayernum:\n",
        "      print(\"You Win\")\n",
        "      break\n",
        "    elif i < 4:\n",
        "      print(\"Guess Again\")"
      ]
    },
    {
      "cell_type": "code",
      "source": [
        "import random \n",
        "sysgennum = random.randint(1,20)\n",
        "\n",
        "\n",
        "for i in range(6):\n",
        "  if i == 5:\n",
        "    print (\"Game Over. Please start over.\")\n",
        "  else: \n",
        "    gameplayernum = int(input())\n",
        "    if sysgennum == gameplayernum:\n",
        "      print(\"You Win\")\n",
        "      break\n",
        "    elif gameplayernum >= sysgennum:\n",
        "      print(\"Guess Lower Value\")\n",
        "    elif gameplayernum <= sysgennum:\n",
        "      print(\"Guess Higher Value\")\n",
        "    elif i < 4:\n",
        "      print(\"Guess Again\")"
      ],
      "metadata": {
        "colab": {
          "base_uri": "https://localhost:8080/"
        },
        "id": "6P-EGwZA-JN_",
        "outputId": "af32f4db-9969-4ea7-dcdd-9b753f79b37d"
      },
      "execution_count": 3,
      "outputs": [
        {
          "output_type": "stream",
          "name": "stdout",
          "text": [
            "10\n",
            "Guess Lower Value\n",
            "3\n",
            "Guess Higher Value\n",
            "7\n",
            "Guess Higher Value\n",
            "9\n",
            "You Win\n"
          ]
        }
      ]
    },
    {
      "cell_type": "code",
      "source": [
        "import random\n",
        "\n",
        "print(\"Type your move into the text field: Rock, Paper, Scissors, Lizard, or Spock\")\n",
        "user = input()\n",
        "\n",
        "number = random.randint(1,5)\n",
        "\n",
        "if number == 1:\n",
        "  computer = \"Rock\"\n",
        "elif number == 2:\n",
        "  computer = \"Paper\"\n",
        "elif number == 3: \n",
        "  computer = \"Scissors\"\n",
        "elif number == 4:\n",
        "  computer = \"Lizard\"\n",
        "elif number == 5:\n",
        "  computer = \"Spock\"\n",
        "\n",
        "\n",
        "if user == computer:\n",
        "  print(\"Wow! User and Computer Tie!\")\n",
        "elif user == \"Scissors\" and computer == \"Lizard\":\n",
        "  print(\"You Win, User!\")\n",
        "elif user == \"Scissors\" and computer == \"Paper\":\n",
        "  print(\"You Win, User!\")\n",
        "elif user == \"Lizard\" and computer == \"Scissors\":\n",
        "  print(\"Computer Wins!\")\n",
        "elif user == \"Paper\" and computer == \"Scissors\":\n",
        "  print(\"Computer Wins!\")\n",
        "elif user == \"Lizard\" and computer == \"Spock\":\n",
        "  print(\"You Win, User!\")\n",
        "elif user == \"Lizard\" and computer == \"Paper\":\n",
        "  print(\"You Win, User!\")\n",
        "elif user == \"Spock\" and computer == \"Lizard\":\n",
        "  print(\"Computer Wins!\")\n",
        "elif user == \"paper\" and computer == \"Lizard\":\n",
        "  print(\"Computer Wins!\")\n",
        "elif user == \"Spock\" and computer == \"Rock\":\n",
        "  print(\"You Win, User!\")\n",
        "elif user == \"Spock\" and computer == \"Scissors\":\n",
        "  print(\"You Win, User!\")\n",
        "elif user == \"Rock\" and computer == \"Spock\":\n",
        "  print(\"Computer Wins!\")\n",
        "elif user == \"Scissors\" and computer == \"Spock\":\n",
        "  print(\"Computer Wins!\")\n",
        "elif user == \"Paper\" and computer == \"Rock\":\n",
        "  print(\"You Win, User!\")\n",
        "elif user == \"Paper\" and computer == \"Spock\":\n",
        "  print(\"You Win, User!\")\n",
        "elif user == \"Rock\" and computer == \"Paper\":\n",
        "  print(\"Computer Wins!\")\n",
        "elif user == \"Spock\" and computer == \"Paper\":\n",
        "  print(\"Computer Wins!\")\n",
        "elif user == \"Rock\" and computer == \"Lizard\":\n",
        "  print(\"You Win, User!\")\n",
        "elif user == \"Rock\" and computer == \"Scissors\":\n",
        "  print(\"You Win, User!\")\n",
        "elif user == \"Lizard\" and computer == \"Rock\":\n",
        "  print(\"Computer Wins!\")\n",
        "elif user == \"Scissors\" and computer == \"Rock\":\n",
        "  print(\"Computer Wins!\")\n",
        "else:\n",
        "  print(\"Invalid Entry!\")"
      ],
      "metadata": {
        "colab": {
          "base_uri": "https://localhost:8080/"
        },
        "id": "lPmeWeTkF1zO",
        "outputId": "f5e713b7-19db-42eb-b8b1-f8203458703f"
      },
      "execution_count": 5,
      "outputs": [
        {
          "output_type": "stream",
          "name": "stdout",
          "text": [
            "Type your move into the text field: Rock, Paper, Scissors, Lizard, or Spock\n",
            "Rocks\n",
            "Invalid Entry!\n"
          ]
        }
      ]
    }
  ]
}
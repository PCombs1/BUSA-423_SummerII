{
  "nbformat": 4,
  "nbformat_minor": 0,
  "metadata": {
    "colab": {
      "name": "Final Exam -- BUSA 423",
      "provenance": [],
      "collapsed_sections": []
    },
    "kernelspec": {
      "name": "python3",
      "display_name": "Python 3"
    },
    "language_info": {
      "name": "python"
    }
  },
  "cells": [
    {
      "cell_type": "markdown",
      "source": [
        "**QUESTION NO. 1**"
      ],
      "metadata": {
        "id": "q4IO8lefmOS3"
      }
    },
    {
      "cell_type": "markdown",
      "source": [
        "***Step 1: ***\n",
        "Upload and import the data as a Panda\n",
        "View/read the data:"
      ],
      "metadata": {
        "id": "wATw1SyTl0yM"
      }
    },
    {
      "cell_type": "code",
      "source": [
        "import pandas as pd\n",
        "\n",
        "df = pd.read_csv('Vehicle_Inventory.csv')\n",
        "df.head()"
      ],
      "metadata": {
        "colab": {
          "base_uri": "https://localhost:8080/",
          "height": 270
        },
        "id": "I24cej2jl5nE",
        "outputId": "a814747b-326f-4a35-e4eb-08feb2600786"
      },
      "execution_count": 1,
      "outputs": [
        {
          "output_type": "execute_result",
          "data": {
            "text/plain": [
              "   name  year  price  miles_driven   Region      fuel transmission  mileage  \\\n",
              "0  Audi  2010   9733         34650     West  Gasoline    Automatic  28.9050   \n",
              "1  Audi  2017  22533          5040    South  Gasoline    Automatic  39.0100   \n",
              "2  Audi  2014  21333         27720    South    Diesel    Automatic  38.8925   \n",
              "3  Audi  2017  34667         44100  Central    Diesel    Automatic  47.8930   \n",
              "4  Audi  2019  82973          4914  Central  Gasoline    Automatic  35.8610   \n",
              "\n",
              "   horse_power  seats  \n",
              "0       163.20      5  \n",
              "1       177.50      5  \n",
              "2       147.51      5  \n",
              "3       143.00      5  \n",
              "4       187.74      5  "
            ],
            "text/html": [
              "\n",
              "  <div id=\"df-29806c2d-4309-4669-8ee4-33e7e34855da\">\n",
              "    <div class=\"colab-df-container\">\n",
              "      <div>\n",
              "<style scoped>\n",
              "    .dataframe tbody tr th:only-of-type {\n",
              "        vertical-align: middle;\n",
              "    }\n",
              "\n",
              "    .dataframe tbody tr th {\n",
              "        vertical-align: top;\n",
              "    }\n",
              "\n",
              "    .dataframe thead th {\n",
              "        text-align: right;\n",
              "    }\n",
              "</style>\n",
              "<table border=\"1\" class=\"dataframe\">\n",
              "  <thead>\n",
              "    <tr style=\"text-align: right;\">\n",
              "      <th></th>\n",
              "      <th>name</th>\n",
              "      <th>year</th>\n",
              "      <th>price</th>\n",
              "      <th>miles_driven</th>\n",
              "      <th>Region</th>\n",
              "      <th>fuel</th>\n",
              "      <th>transmission</th>\n",
              "      <th>mileage</th>\n",
              "      <th>horse_power</th>\n",
              "      <th>seats</th>\n",
              "    </tr>\n",
              "  </thead>\n",
              "  <tbody>\n",
              "    <tr>\n",
              "      <th>0</th>\n",
              "      <td>Audi</td>\n",
              "      <td>2010</td>\n",
              "      <td>9733</td>\n",
              "      <td>34650</td>\n",
              "      <td>West</td>\n",
              "      <td>Gasoline</td>\n",
              "      <td>Automatic</td>\n",
              "      <td>28.9050</td>\n",
              "      <td>163.20</td>\n",
              "      <td>5</td>\n",
              "    </tr>\n",
              "    <tr>\n",
              "      <th>1</th>\n",
              "      <td>Audi</td>\n",
              "      <td>2017</td>\n",
              "      <td>22533</td>\n",
              "      <td>5040</td>\n",
              "      <td>South</td>\n",
              "      <td>Gasoline</td>\n",
              "      <td>Automatic</td>\n",
              "      <td>39.0100</td>\n",
              "      <td>177.50</td>\n",
              "      <td>5</td>\n",
              "    </tr>\n",
              "    <tr>\n",
              "      <th>2</th>\n",
              "      <td>Audi</td>\n",
              "      <td>2014</td>\n",
              "      <td>21333</td>\n",
              "      <td>27720</td>\n",
              "      <td>South</td>\n",
              "      <td>Diesel</td>\n",
              "      <td>Automatic</td>\n",
              "      <td>38.8925</td>\n",
              "      <td>147.51</td>\n",
              "      <td>5</td>\n",
              "    </tr>\n",
              "    <tr>\n",
              "      <th>3</th>\n",
              "      <td>Audi</td>\n",
              "      <td>2017</td>\n",
              "      <td>34667</td>\n",
              "      <td>44100</td>\n",
              "      <td>Central</td>\n",
              "      <td>Diesel</td>\n",
              "      <td>Automatic</td>\n",
              "      <td>47.8930</td>\n",
              "      <td>143.00</td>\n",
              "      <td>5</td>\n",
              "    </tr>\n",
              "    <tr>\n",
              "      <th>4</th>\n",
              "      <td>Audi</td>\n",
              "      <td>2019</td>\n",
              "      <td>82973</td>\n",
              "      <td>4914</td>\n",
              "      <td>Central</td>\n",
              "      <td>Gasoline</td>\n",
              "      <td>Automatic</td>\n",
              "      <td>35.8610</td>\n",
              "      <td>187.74</td>\n",
              "      <td>5</td>\n",
              "    </tr>\n",
              "  </tbody>\n",
              "</table>\n",
              "</div>\n",
              "      <button class=\"colab-df-convert\" onclick=\"convertToInteractive('df-29806c2d-4309-4669-8ee4-33e7e34855da')\"\n",
              "              title=\"Convert this dataframe to an interactive table.\"\n",
              "              style=\"display:none;\">\n",
              "        \n",
              "  <svg xmlns=\"http://www.w3.org/2000/svg\" height=\"24px\"viewBox=\"0 0 24 24\"\n",
              "       width=\"24px\">\n",
              "    <path d=\"M0 0h24v24H0V0z\" fill=\"none\"/>\n",
              "    <path d=\"M18.56 5.44l.94 2.06.94-2.06 2.06-.94-2.06-.94-.94-2.06-.94 2.06-2.06.94zm-11 1L8.5 8.5l.94-2.06 2.06-.94-2.06-.94L8.5 2.5l-.94 2.06-2.06.94zm10 10l.94 2.06.94-2.06 2.06-.94-2.06-.94-.94-2.06-.94 2.06-2.06.94z\"/><path d=\"M17.41 7.96l-1.37-1.37c-.4-.4-.92-.59-1.43-.59-.52 0-1.04.2-1.43.59L10.3 9.45l-7.72 7.72c-.78.78-.78 2.05 0 2.83L4 21.41c.39.39.9.59 1.41.59.51 0 1.02-.2 1.41-.59l7.78-7.78 2.81-2.81c.8-.78.8-2.07 0-2.86zM5.41 20L4 18.59l7.72-7.72 1.47 1.35L5.41 20z\"/>\n",
              "  </svg>\n",
              "      </button>\n",
              "      \n",
              "  <style>\n",
              "    .colab-df-container {\n",
              "      display:flex;\n",
              "      flex-wrap:wrap;\n",
              "      gap: 12px;\n",
              "    }\n",
              "\n",
              "    .colab-df-convert {\n",
              "      background-color: #E8F0FE;\n",
              "      border: none;\n",
              "      border-radius: 50%;\n",
              "      cursor: pointer;\n",
              "      display: none;\n",
              "      fill: #1967D2;\n",
              "      height: 32px;\n",
              "      padding: 0 0 0 0;\n",
              "      width: 32px;\n",
              "    }\n",
              "\n",
              "    .colab-df-convert:hover {\n",
              "      background-color: #E2EBFA;\n",
              "      box-shadow: 0px 1px 2px rgba(60, 64, 67, 0.3), 0px 1px 3px 1px rgba(60, 64, 67, 0.15);\n",
              "      fill: #174EA6;\n",
              "    }\n",
              "\n",
              "    [theme=dark] .colab-df-convert {\n",
              "      background-color: #3B4455;\n",
              "      fill: #D2E3FC;\n",
              "    }\n",
              "\n",
              "    [theme=dark] .colab-df-convert:hover {\n",
              "      background-color: #434B5C;\n",
              "      box-shadow: 0px 1px 3px 1px rgba(0, 0, 0, 0.15);\n",
              "      filter: drop-shadow(0px 1px 2px rgba(0, 0, 0, 0.3));\n",
              "      fill: #FFFFFF;\n",
              "    }\n",
              "  </style>\n",
              "\n",
              "      <script>\n",
              "        const buttonEl =\n",
              "          document.querySelector('#df-29806c2d-4309-4669-8ee4-33e7e34855da button.colab-df-convert');\n",
              "        buttonEl.style.display =\n",
              "          google.colab.kernel.accessAllowed ? 'block' : 'none';\n",
              "\n",
              "        async function convertToInteractive(key) {\n",
              "          const element = document.querySelector('#df-29806c2d-4309-4669-8ee4-33e7e34855da');\n",
              "          const dataTable =\n",
              "            await google.colab.kernel.invokeFunction('convertToInteractive',\n",
              "                                                     [key], {});\n",
              "          if (!dataTable) return;\n",
              "\n",
              "          const docLinkHtml = 'Like what you see? Visit the ' +\n",
              "            '<a target=\"_blank\" href=https://colab.research.google.com/notebooks/data_table.ipynb>data table notebook</a>'\n",
              "            + ' to learn more about interactive tables.';\n",
              "          element.innerHTML = '';\n",
              "          dataTable['output_type'] = 'display_data';\n",
              "          await google.colab.output.renderOutput(dataTable, element);\n",
              "          const docLink = document.createElement('div');\n",
              "          docLink.innerHTML = docLinkHtml;\n",
              "          element.appendChild(docLink);\n",
              "        }\n",
              "      </script>\n",
              "    </div>\n",
              "  </div>\n",
              "  "
            ]
          },
          "metadata": {},
          "execution_count": 1
        }
      ]
    },
    {
      "cell_type": "markdown",
      "source": [
        "**Step 2**\n",
        "Access the data\n",
        "Describe the data using descriptive statistics\n"
      ],
      "metadata": {
        "id": "P5SgwjQil8xn"
      }
    },
    {
      "cell_type": "code",
      "source": [
        "data = pd.read_csv('Vehicle_Inventory.csv')\n",
        "\n",
        "data.describe()"
      ],
      "metadata": {
        "colab": {
          "base_uri": "https://localhost:8080/",
          "height": 344
        },
        "id": "MM9dxP7ll-64",
        "outputId": "5364129b-4767-4cc2-9a16-8cf00f3f64b3"
      },
      "execution_count": 2,
      "outputs": [
        {
          "output_type": "execute_result",
          "data": {
            "text/plain": [
              "              year          price  miles_driven      mileage  horse_power  \\\n",
              "count  3323.000000    3323.000000  3.323000e+03  3323.000000  3323.000000   \n",
              "mean   2014.190491   12115.888354  4.314015e+04    43.743896   106.387185   \n",
              "std       3.440053   15203.179799  3.992027e+04     9.049754    41.932843   \n",
              "min    1999.000000     600.000000  6.300000e+02     0.000000    55.200000   \n",
              "25%    2012.000000    4047.000000  1.890000e+04    39.433000    78.900000   \n",
              "50%    2015.000000    7333.000000  3.780000e+04    43.710000    94.930000   \n",
              "75%    2017.000000   11333.000000  5.670000e+04    49.585000   123.700000   \n",
              "max    2020.000000  133333.000000  1.487088e+06    98.700000   400.000000   \n",
              "\n",
              "             seats  \n",
              "count  3323.000000  \n",
              "mean      5.295516  \n",
              "std       0.832404  \n",
              "min       4.000000  \n",
              "25%       5.000000  \n",
              "50%       5.000000  \n",
              "75%       5.000000  \n",
              "max      10.000000  "
            ],
            "text/html": [
              "\n",
              "  <div id=\"df-42393e7c-309b-475d-a5c1-91c4c2d6df55\">\n",
              "    <div class=\"colab-df-container\">\n",
              "      <div>\n",
              "<style scoped>\n",
              "    .dataframe tbody tr th:only-of-type {\n",
              "        vertical-align: middle;\n",
              "    }\n",
              "\n",
              "    .dataframe tbody tr th {\n",
              "        vertical-align: top;\n",
              "    }\n",
              "\n",
              "    .dataframe thead th {\n",
              "        text-align: right;\n",
              "    }\n",
              "</style>\n",
              "<table border=\"1\" class=\"dataframe\">\n",
              "  <thead>\n",
              "    <tr style=\"text-align: right;\">\n",
              "      <th></th>\n",
              "      <th>year</th>\n",
              "      <th>price</th>\n",
              "      <th>miles_driven</th>\n",
              "      <th>mileage</th>\n",
              "      <th>horse_power</th>\n",
              "      <th>seats</th>\n",
              "    </tr>\n",
              "  </thead>\n",
              "  <tbody>\n",
              "    <tr>\n",
              "      <th>count</th>\n",
              "      <td>3323.000000</td>\n",
              "      <td>3323.000000</td>\n",
              "      <td>3.323000e+03</td>\n",
              "      <td>3323.000000</td>\n",
              "      <td>3323.000000</td>\n",
              "      <td>3323.000000</td>\n",
              "    </tr>\n",
              "    <tr>\n",
              "      <th>mean</th>\n",
              "      <td>2014.190491</td>\n",
              "      <td>12115.888354</td>\n",
              "      <td>4.314015e+04</td>\n",
              "      <td>43.743896</td>\n",
              "      <td>106.387185</td>\n",
              "      <td>5.295516</td>\n",
              "    </tr>\n",
              "    <tr>\n",
              "      <th>std</th>\n",
              "      <td>3.440053</td>\n",
              "      <td>15203.179799</td>\n",
              "      <td>3.992027e+04</td>\n",
              "      <td>9.049754</td>\n",
              "      <td>41.932843</td>\n",
              "      <td>0.832404</td>\n",
              "    </tr>\n",
              "    <tr>\n",
              "      <th>min</th>\n",
              "      <td>1999.000000</td>\n",
              "      <td>600.000000</td>\n",
              "      <td>6.300000e+02</td>\n",
              "      <td>0.000000</td>\n",
              "      <td>55.200000</td>\n",
              "      <td>4.000000</td>\n",
              "    </tr>\n",
              "    <tr>\n",
              "      <th>25%</th>\n",
              "      <td>2012.000000</td>\n",
              "      <td>4047.000000</td>\n",
              "      <td>1.890000e+04</td>\n",
              "      <td>39.433000</td>\n",
              "      <td>78.900000</td>\n",
              "      <td>5.000000</td>\n",
              "    </tr>\n",
              "    <tr>\n",
              "      <th>50%</th>\n",
              "      <td>2015.000000</td>\n",
              "      <td>7333.000000</td>\n",
              "      <td>3.780000e+04</td>\n",
              "      <td>43.710000</td>\n",
              "      <td>94.930000</td>\n",
              "      <td>5.000000</td>\n",
              "    </tr>\n",
              "    <tr>\n",
              "      <th>75%</th>\n",
              "      <td>2017.000000</td>\n",
              "      <td>11333.000000</td>\n",
              "      <td>5.670000e+04</td>\n",
              "      <td>49.585000</td>\n",
              "      <td>123.700000</td>\n",
              "      <td>5.000000</td>\n",
              "    </tr>\n",
              "    <tr>\n",
              "      <th>max</th>\n",
              "      <td>2020.000000</td>\n",
              "      <td>133333.000000</td>\n",
              "      <td>1.487088e+06</td>\n",
              "      <td>98.700000</td>\n",
              "      <td>400.000000</td>\n",
              "      <td>10.000000</td>\n",
              "    </tr>\n",
              "  </tbody>\n",
              "</table>\n",
              "</div>\n",
              "      <button class=\"colab-df-convert\" onclick=\"convertToInteractive('df-42393e7c-309b-475d-a5c1-91c4c2d6df55')\"\n",
              "              title=\"Convert this dataframe to an interactive table.\"\n",
              "              style=\"display:none;\">\n",
              "        \n",
              "  <svg xmlns=\"http://www.w3.org/2000/svg\" height=\"24px\"viewBox=\"0 0 24 24\"\n",
              "       width=\"24px\">\n",
              "    <path d=\"M0 0h24v24H0V0z\" fill=\"none\"/>\n",
              "    <path d=\"M18.56 5.44l.94 2.06.94-2.06 2.06-.94-2.06-.94-.94-2.06-.94 2.06-2.06.94zm-11 1L8.5 8.5l.94-2.06 2.06-.94-2.06-.94L8.5 2.5l-.94 2.06-2.06.94zm10 10l.94 2.06.94-2.06 2.06-.94-2.06-.94-.94-2.06-.94 2.06-2.06.94z\"/><path d=\"M17.41 7.96l-1.37-1.37c-.4-.4-.92-.59-1.43-.59-.52 0-1.04.2-1.43.59L10.3 9.45l-7.72 7.72c-.78.78-.78 2.05 0 2.83L4 21.41c.39.39.9.59 1.41.59.51 0 1.02-.2 1.41-.59l7.78-7.78 2.81-2.81c.8-.78.8-2.07 0-2.86zM5.41 20L4 18.59l7.72-7.72 1.47 1.35L5.41 20z\"/>\n",
              "  </svg>\n",
              "      </button>\n",
              "      \n",
              "  <style>\n",
              "    .colab-df-container {\n",
              "      display:flex;\n",
              "      flex-wrap:wrap;\n",
              "      gap: 12px;\n",
              "    }\n",
              "\n",
              "    .colab-df-convert {\n",
              "      background-color: #E8F0FE;\n",
              "      border: none;\n",
              "      border-radius: 50%;\n",
              "      cursor: pointer;\n",
              "      display: none;\n",
              "      fill: #1967D2;\n",
              "      height: 32px;\n",
              "      padding: 0 0 0 0;\n",
              "      width: 32px;\n",
              "    }\n",
              "\n",
              "    .colab-df-convert:hover {\n",
              "      background-color: #E2EBFA;\n",
              "      box-shadow: 0px 1px 2px rgba(60, 64, 67, 0.3), 0px 1px 3px 1px rgba(60, 64, 67, 0.15);\n",
              "      fill: #174EA6;\n",
              "    }\n",
              "\n",
              "    [theme=dark] .colab-df-convert {\n",
              "      background-color: #3B4455;\n",
              "      fill: #D2E3FC;\n",
              "    }\n",
              "\n",
              "    [theme=dark] .colab-df-convert:hover {\n",
              "      background-color: #434B5C;\n",
              "      box-shadow: 0px 1px 3px 1px rgba(0, 0, 0, 0.15);\n",
              "      filter: drop-shadow(0px 1px 2px rgba(0, 0, 0, 0.3));\n",
              "      fill: #FFFFFF;\n",
              "    }\n",
              "  </style>\n",
              "\n",
              "      <script>\n",
              "        const buttonEl =\n",
              "          document.querySelector('#df-42393e7c-309b-475d-a5c1-91c4c2d6df55 button.colab-df-convert');\n",
              "        buttonEl.style.display =\n",
              "          google.colab.kernel.accessAllowed ? 'block' : 'none';\n",
              "\n",
              "        async function convertToInteractive(key) {\n",
              "          const element = document.querySelector('#df-42393e7c-309b-475d-a5c1-91c4c2d6df55');\n",
              "          const dataTable =\n",
              "            await google.colab.kernel.invokeFunction('convertToInteractive',\n",
              "                                                     [key], {});\n",
              "          if (!dataTable) return;\n",
              "\n",
              "          const docLinkHtml = 'Like what you see? Visit the ' +\n",
              "            '<a target=\"_blank\" href=https://colab.research.google.com/notebooks/data_table.ipynb>data table notebook</a>'\n",
              "            + ' to learn more about interactive tables.';\n",
              "          element.innerHTML = '';\n",
              "          dataTable['output_type'] = 'display_data';\n",
              "          await google.colab.output.renderOutput(dataTable, element);\n",
              "          const docLink = document.createElement('div');\n",
              "          docLink.innerHTML = docLinkHtml;\n",
              "          element.appendChild(docLink);\n",
              "        }\n",
              "      </script>\n",
              "    </div>\n",
              "  </div>\n",
              "  "
            ]
          },
          "metadata": {},
          "execution_count": 2
        }
      ]
    },
    {
      "cell_type": "markdown",
      "source": [
        "**Step 3:** Set up the visualizations"
      ],
      "metadata": {
        "id": "Dyk4NuQmmB6f"
      }
    },
    {
      "cell_type": "code",
      "source": [
        "import matplotlib.pyplot as plt\n",
        "import pandas as pd "
      ],
      "metadata": {
        "id": "40VNCNG9mUT-"
      },
      "execution_count": 3,
      "outputs": []
    },
    {
      "cell_type": "markdown",
      "source": [
        "**(a) Line Chart** showing the fuel type and quantity of cars"
      ],
      "metadata": {
        "id": "NkrWVsLNmXSS"
      }
    },
    {
      "cell_type": "code",
      "source": [
        "x = data['fuel'].value_counts().plot(kind='line')\n",
        "plt.plot()\n",
        "\n",
        "plt.xlabel(\"Fuel Type\")\n",
        "plt.ylabel(\"Qty of Vehicles \")\n",
        "plt.title(\"Line Chart\")\n",
        "plt.show()"
      ],
      "metadata": {
        "colab": {
          "base_uri": "https://localhost:8080/",
          "height": 295
        },
        "id": "Bfw3ATgVmaA8",
        "outputId": "5aa27bdd-dc65-4a2d-c121-a9684a2ff724"
      },
      "execution_count": 4,
      "outputs": [
        {
          "output_type": "display_data",
          "data": {
            "text/plain": [
              "<Figure size 432x288 with 1 Axes>"
            ],
            "image/png": "[encoded data removed]"
          },
          "metadata": {
            "needs_background": "light"
          }
        }
      ]
    },
    {
      "cell_type": "markdown",
      "source": [
        "**(b) Bar Chart**\n",
        "Create bar chart with one data element"
      ],
      "metadata": {
        "id": "VgzG12tlmc6r"
      }
    },
    {
      "cell_type": "code",
      "source": [
        "x = data['name'].value_counts().plot(kind='bar')\n",
        "plt.plot()\n",
        "\n",
        "plt.xlabel(\"Vehicle Name\")\n",
        "plt.ylabel(\"Qty of Vehicles \")\n",
        "plt.title(\"Bar Chart\")\n",
        "plt.show()"
      ],
      "metadata": {
        "colab": {
          "base_uri": "https://localhost:8080/",
          "height": 344
        },
        "id": "mo2qWrJamfDb",
        "outputId": "f8cd0890-9f83-42d4-b0b9-d94db8cdd7d2"
      },
      "execution_count": 5,
      "outputs": [
        {
          "output_type": "display_data",
          "data": {
            "text/plain": [
              "<Figure size 432x288 with 1 Axes>"
            ],
            "image/png": "[encoded data removed]"
          },
          "metadata": {
            "needs_background": "light"
          }
        }
      ]
    },
    {
      "cell_type": "markdown",
      "source": [
        "**(c) Histogram Chart**\n",
        "Create histogram chart with one data element"
      ],
      "metadata": {
        "id": "6G29GorYmjT6"
      }
    },
    {
      "cell_type": "code",
      "source": [
        "plt.hist(data[\"mileage\"])"
      ],
      "metadata": {
        "colab": {
          "base_uri": "https://localhost:8080/",
          "height": 354
        },
        "id": "JG2tJ0ocmmZM",
        "outputId": "1465f7f8-5dcc-4281-d6a1-83ea1db6d3bd"
      },
      "execution_count": 6,
      "outputs": [
        {
          "output_type": "execute_result",
          "data": {
            "text/plain": [
              "(array([1.100e+01, 0.000e+00, 1.290e+02, 8.220e+02, 1.445e+03, 7.350e+02,\n",
              "        1.800e+02, 0.000e+00, 0.000e+00, 1.000e+00]),\n",
              " array([ 0.  ,  9.87, 19.74, 29.61, 39.48, 49.35, 59.22, 69.09, 78.96,\n",
              "        88.83, 98.7 ]),\n",
              " <a list of 10 Patch objects>)"
            ]
          },
          "metadata": {},
          "execution_count": 6
        },
        {
          "output_type": "display_data",
          "data": {
            "text/plain": [
              "<Figure size 432x288 with 1 Axes>"
            ],
            "image/png": "[encoded data removed]"
          },
          "metadata": {
            "needs_background": "light"
          }
        }
      ]
    },
    {
      "cell_type": "markdown",
      "source": [
        "**(d) Area Chart**\n",
        "Create area chart "
      ],
      "metadata": {
        "id": "__Zjxg1Empvp"
      }
    },
    {
      "cell_type": "code",
      "source": [
        "plt.figure(figsize=(10,8))\n",
        "fig,ax=plt.subplots()\n",
        "df.plot.area(y='mileage', ax=ax)\n",
        "df.plot.area(y='horse_power', ax=ax, secondary_y=True) "
      ],
      "metadata": {
        "colab": {
          "base_uri": "https://localhost:8080/",
          "height": 301
        },
        "id": "4twygOVwmsHe",
        "outputId": "dbc38831-477a-4375-af3c-067e0c17d605"
      },
      "execution_count": 7,
      "outputs": [
        {
          "output_type": "execute_result",
          "data": {
            "text/plain": [
              "<matplotlib.axes._subplots.AxesSubplot at 0x7f7b755d9190>"
            ]
          },
          "metadata": {},
          "execution_count": 7
        },
        {
          "output_type": "display_data",
          "data": {
            "text/plain": [
              "<Figure size 720x576 with 0 Axes>"
            ]
          },
          "metadata": {}
        },
        {
          "output_type": "display_data",
          "data": {
            "text/plain": [
              "<Figure size 432x288 with 2 Axes>"
            ],
            "image/png": "[encoded data removed]"
          },
          "metadata": {
            "needs_background": "light"
          }
        }
      ]
    },
    {
      "cell_type": "markdown",
      "source": [
        "**(e) Scatter Plot**\n",
        "Create scatter plot"
      ],
      "metadata": {
        "id": "BWbrNu87muYN"
      }
    },
    {
      "cell_type": "code",
      "source": [
        "plt.figure(figsize=(10,8))\n",
        "plt.scatter(x=data['year'], y=data['mileage'])\n",
        "\n",
        "plt.xticks(rotation=90)\n",
        "plt.xlabel(\"year\")\n",
        "plt.ylabel(\"mileage\")\n",
        "plt.title(\"Scatter Plot\")\n",
        "plt.show()"
      ],
      "metadata": {
        "colab": {
          "base_uri": "https://localhost:8080/",
          "height": 528
        },
        "id": "eZ7fWk-vmvAG",
        "outputId": "5548f467-0994-42b0-cfea-2723354c894d"
      },
      "execution_count": 8,
      "outputs": [
        {
          "output_type": "display_data",
          "data": {
            "text/plain": [
              "<Figure size 720x576 with 1 Axes>"
            ],
            "image/png": "[encoded data removed]"
          },
          "metadata": {
            "needs_background": "light"
          }
        }
      ]
    },
    {
      "cell_type": "markdown",
      "source": [
        "**(f) Box and Whisker Chart**\n",
        "Create box and whisker chart with one data element"
      ],
      "metadata": {
        "id": "2Wwx7FaPm0LY"
      }
    },
    {
      "cell_type": "code",
      "source": [
        "df.boxplot(by ='name', column =['price'], grid = False)\n",
        "\n",
        "plt.xticks(rotation=90)\n",
        "plt.xlabel(\"Vehicle Name\")\n",
        "plt.ylabel(\"Price\")"
      ],
      "metadata": {
        "colab": {
          "base_uri": "https://localhost:8080/",
          "height": 424
        },
        "id": "YW6F3EDGm04h",
        "outputId": "483ba501-e640-4f10-9411-1b64062b4a1a"
      },
      "execution_count": 9,
      "outputs": [
        {
          "output_type": "stream",
          "name": "stderr",
          "text": [
            "/usr/local/lib/python3.7/dist-packages/matplotlib/cbook/__init__.py:1376: VisibleDeprecationWarning: Creating an ndarray from ragged nested sequences (which is a list-or-tuple of lists-or-tuples-or ndarrays with different lengths or shapes) is deprecated. If you meant to do this, you must specify 'dtype=object' when creating the ndarray.\n",
            "  X = np.atleast_1d(X.T if isinstance(X, np.ndarray) else np.asarray(X))\n"
          ]
        },
        {
          "output_type": "execute_result",
          "data": {
            "text/plain": [
              "Text(0, 0.5, 'Price')"
            ]
          },
          "metadata": {},
          "execution_count": 9
        },
        {
          "output_type": "display_data",
          "data": {
            "text/plain": [
              "<Figure size 432x288 with 1 Axes>"
            ],
            "image/png": "[encoded data removed]"
          },
          "metadata": {
            "needs_background": "light"
          }
        }
      ]
    },
    {
      "cell_type": "markdown",
      "source": [
        "** QUESTION NO.2**\n",
        "Perform exploratory analysis "
      ],
      "metadata": {
        "id": "diiFZ2O3m7Am"
      }
    },
    {
      "cell_type": "markdown",
      "source": [
        "(a) *Conclusion from measure of central tendency and deviation of the quantitative variables: *\n",
        "\n",
        "The mean exceeds the median for all variables. The mean and median are closest for the variables: year (this variable which has a low degree of variance) and mileage. The mean for price is significantly higher than the mode and median for price because the mean is most sensitive to extreme values, which are affected by the most expensive price tags including the 2017 Volve at $133,333.\n",
        "The median is lower than the mean for all of the variables, meaning that the data is positively skewed. The standard deviation quantifies the variation within the data set. In this data set, many of the variables (e.g. price and seats) have different units of measurement. As such, the dispersion of the variables in comparison with one another will be incorrect. In reviewing the dataset, particularly the scatterplot, the data has some variation evidenced in the spread between the upper and lower years in the data set, most notably between the years of 2000 and 2007. The data in the scatterpolot is significantly left-skewed for the data elements year and mileage. In each of the dispersion visualizations, outliers are visible. "
      ],
      "metadata": {
        "id": "oPnigwF-m-Ue"
      }
    },
    {
      "cell_type": "code",
      "source": [
        "df.mean()"
      ],
      "metadata": {
        "colab": {
          "base_uri": "https://localhost:8080/"
        },
        "id": "AWgplQ8KnDl-",
        "outputId": "b1910f0b-bb9c-48ab-e9c8-e8b96c1f0c2a"
      },
      "execution_count": 10,
      "outputs": [
        {
          "output_type": "stream",
          "name": "stderr",
          "text": [
            "/usr/local/lib/python3.7/dist-packages/ipykernel_launcher.py:1: FutureWarning: Dropping of nuisance columns in DataFrame reductions (with 'numeric_only=None') is deprecated; in a future version this will raise TypeError.  Select only valid columns before calling the reduction.\n",
            "  \"\"\"Entry point for launching an IPython kernel.\n"
          ]
        },
        {
          "output_type": "execute_result",
          "data": {
            "text/plain": [
              "year             2014.190491\n",
              "price           12115.888354\n",
              "miles_driven    43140.152874\n",
              "mileage            43.743896\n",
              "horse_power       106.387185\n",
              "seats               5.295516\n",
              "dtype: float64"
            ]
          },
          "metadata": {},
          "execution_count": 10
        }
      ]
    },
    {
      "cell_type": "code",
      "source": [
        "df.median()"
      ],
      "metadata": {
        "colab": {
          "base_uri": "https://localhost:8080/"
        },
        "id": "NBGaPD2ZnFxr",
        "outputId": "6dc420be-f140-4a49-e248-5c541836816e"
      },
      "execution_count": 11,
      "outputs": [
        {
          "output_type": "stream",
          "name": "stderr",
          "text": [
            "/usr/local/lib/python3.7/dist-packages/ipykernel_launcher.py:1: FutureWarning: Dropping of nuisance columns in DataFrame reductions (with 'numeric_only=None') is deprecated; in a future version this will raise TypeError.  Select only valid columns before calling the reduction.\n",
            "  \"\"\"Entry point for launching an IPython kernel.\n"
          ]
        },
        {
          "output_type": "execute_result",
          "data": {
            "text/plain": [
              "year             2015.00\n",
              "price            7333.00\n",
              "miles_driven    37800.00\n",
              "mileage            43.71\n",
              "horse_power        94.93\n",
              "seats               5.00\n",
              "dtype: float64"
            ]
          },
          "metadata": {},
          "execution_count": 11
        }
      ]
    },
    {
      "cell_type": "code",
      "source": [
        "df.mode()"
      ],
      "metadata": {
        "colab": {
          "base_uri": "https://localhost:8080/",
          "height": 145
        },
        "id": "32dWzLiYnHk6",
        "outputId": "710568af-f883-44e0-bcdc-4136f32cb047"
      },
      "execution_count": 12,
      "outputs": [
        {
          "output_type": "execute_result",
          "data": {
            "text/plain": [
              "      name  year  price  miles_driven   Region    fuel transmission  mileage  \\\n",
              "0  Hyundai  2017   7333         50400  Central  Diesel       Manual    43.71   \n",
              "\n",
              "   horse_power  seats  \n",
              "0         55.2      5  "
            ],
            "text/html": [
              "\n",
              "  <div id=\"df-9b302712-56c5-4399-b5e8-460645b53a40\">\n",
              "    <div class=\"colab-df-container\">\n",
              "      <div>\n",
              "<style scoped>\n",
              "    .dataframe tbody tr th:only-of-type {\n",
              "        vertical-align: middle;\n",
              "    }\n",
              "\n",
              "    .dataframe tbody tr th {\n",
              "        vertical-align: top;\n",
              "    }\n",
              "\n",
              "    .dataframe thead th {\n",
              "        text-align: right;\n",
              "    }\n",
              "</style>\n",
              "<table border=\"1\" class=\"dataframe\">\n",
              "  <thead>\n",
              "    <tr style=\"text-align: right;\">\n",
              "      <th></th>\n",
              "      <th>name</th>\n",
              "      <th>year</th>\n",
              "      <th>price</th>\n",
              "      <th>miles_driven</th>\n",
              "      <th>Region</th>\n",
              "      <th>fuel</th>\n",
              "      <th>transmission</th>\n",
              "      <th>mileage</th>\n",
              "      <th>horse_power</th>\n",
              "      <th>seats</th>\n",
              "    </tr>\n",
              "  </thead>\n",
              "  <tbody>\n",
              "    <tr>\n",
              "      <th>0</th>\n",
              "      <td>Hyundai</td>\n",
              "      <td>2017</td>\n",
              "      <td>7333</td>\n",
              "      <td>50400</td>\n",
              "      <td>Central</td>\n",
              "      <td>Diesel</td>\n",
              "      <td>Manual</td>\n",
              "      <td>43.71</td>\n",
              "      <td>55.2</td>\n",
              "      <td>5</td>\n",
              "    </tr>\n",
              "  </tbody>\n",
              "</table>\n",
              "</div>\n",
              "      <button class=\"colab-df-convert\" onclick=\"convertToInteractive('df-9b302712-56c5-4399-b5e8-460645b53a40')\"\n",
              "              title=\"Convert this dataframe to an interactive table.\"\n",
              "              style=\"display:none;\">\n",
              "        \n",
              "  <svg xmlns=\"http://www.w3.org/2000/svg\" height=\"24px\"viewBox=\"0 0 24 24\"\n",
              "       width=\"24px\">\n",
              "    <path d=\"M0 0h24v24H0V0z\" fill=\"none\"/>\n",
              "    <path d=\"M18.56 5.44l.94 2.06.94-2.06 2.06-.94-2.06-.94-.94-2.06-.94 2.06-2.06.94zm-11 1L8.5 8.5l.94-2.06 2.06-.94-2.06-.94L8.5 2.5l-.94 2.06-2.06.94zm10 10l.94 2.06.94-2.06 2.06-.94-2.06-.94-.94-2.06-.94 2.06-2.06.94z\"/><path d=\"M17.41 7.96l-1.37-1.37c-.4-.4-.92-.59-1.43-.59-.52 0-1.04.2-1.43.59L10.3 9.45l-7.72 7.72c-.78.78-.78 2.05 0 2.83L4 21.41c.39.39.9.59 1.41.59.51 0 1.02-.2 1.41-.59l7.78-7.78 2.81-2.81c.8-.78.8-2.07 0-2.86zM5.41 20L4 18.59l7.72-7.72 1.47 1.35L5.41 20z\"/>\n",
              "  </svg>\n",
              "      </button>\n",
              "      \n",
              "  <style>\n",
              "    .colab-df-container {\n",
              "      display:flex;\n",
              "      flex-wrap:wrap;\n",
              "      gap: 12px;\n",
              "    }\n",
              "\n",
              "    .colab-df-convert {\n",
              "      background-color: #E8F0FE;\n",
              "      border: none;\n",
              "      border-radius: 50%;\n",
              "      cursor: pointer;\n",
              "      display: none;\n",
              "      fill: #1967D2;\n",
              "      height: 32px;\n",
              "      padding: 0 0 0 0;\n",
              "      width: 32px;\n",
              "    }\n",
              "\n",
              "    .colab-df-convert:hover {\n",
              "      background-color: #E2EBFA;\n",
              "      box-shadow: 0px 1px 2px rgba(60, 64, 67, 0.3), 0px 1px 3px 1px rgba(60, 64, 67, 0.15);\n",
              "      fill: #174EA6;\n",
              "    }\n",
              "\n",
              "    [theme=dark] .colab-df-convert {\n",
              "      background-color: #3B4455;\n",
              "      fill: #D2E3FC;\n",
              "    }\n",
              "\n",
              "    [theme=dark] .colab-df-convert:hover {\n",
              "      background-color: #434B5C;\n",
              "      box-shadow: 0px 1px 3px 1px rgba(0, 0, 0, 0.15);\n",
              "      filter: drop-shadow(0px 1px 2px rgba(0, 0, 0, 0.3));\n",
              "      fill: #FFFFFF;\n",
              "    }\n",
              "  </style>\n",
              "\n",
              "      <script>\n",
              "        const buttonEl =\n",
              "          document.querySelector('#df-9b302712-56c5-4399-b5e8-460645b53a40 button.colab-df-convert');\n",
              "        buttonEl.style.display =\n",
              "          google.colab.kernel.accessAllowed ? 'block' : 'none';\n",
              "\n",
              "        async function convertToInteractive(key) {\n",
              "          const element = document.querySelector('#df-9b302712-56c5-4399-b5e8-460645b53a40');\n",
              "          const dataTable =\n",
              "            await google.colab.kernel.invokeFunction('convertToInteractive',\n",
              "                                                     [key], {});\n",
              "          if (!dataTable) return;\n",
              "\n",
              "          const docLinkHtml = 'Like what you see? Visit the ' +\n",
              "            '<a target=\"_blank\" href=https://colab.research.google.com/notebooks/data_table.ipynb>data table notebook</a>'\n",
              "            + ' to learn more about interactive tables.';\n",
              "          element.innerHTML = '';\n",
              "          dataTable['output_type'] = 'display_data';\n",
              "          await google.colab.output.renderOutput(dataTable, element);\n",
              "          const docLink = document.createElement('div');\n",
              "          docLink.innerHTML = docLinkHtml;\n",
              "          element.appendChild(docLink);\n",
              "        }\n",
              "      </script>\n",
              "    </div>\n",
              "  </div>\n",
              "  "
            ]
          },
          "metadata": {},
          "execution_count": 12
        }
      ]
    },
    {
      "cell_type": "code",
      "source": [
        "df.std()"
      ],
      "metadata": {
        "colab": {
          "base_uri": "https://localhost:8080/"
        },
        "id": "jwHXUZmynJgN",
        "outputId": "60d3bd0b-10d0-4838-dc05-1b2e309b07c9"
      },
      "execution_count": 13,
      "outputs": [
        {
          "output_type": "stream",
          "name": "stderr",
          "text": [
            "/usr/local/lib/python3.7/dist-packages/ipykernel_launcher.py:1: FutureWarning: Dropping of nuisance columns in DataFrame reductions (with 'numeric_only=None') is deprecated; in a future version this will raise TypeError.  Select only valid columns before calling the reduction.\n",
            "  \"\"\"Entry point for launching an IPython kernel.\n"
          ]
        },
        {
          "output_type": "execute_result",
          "data": {
            "text/plain": [
              "year                3.440053\n",
              "price           15203.179799\n",
              "miles_driven    39920.270443\n",
              "mileage             9.049754\n",
              "horse_power        41.932843\n",
              "seats               0.832404\n",
              "dtype: float64"
            ]
          },
          "metadata": {},
          "execution_count": 13
        }
      ]
    },
    {
      "cell_type": "code",
      "source": [
        "df.var()"
      ],
      "metadata": {
        "colab": {
          "base_uri": "https://localhost:8080/"
        },
        "id": "6rRe3tX5nLP_",
        "outputId": "64f21dbf-8216-4a21-c0c4-98402b1ee421"
      },
      "execution_count": 14,
      "outputs": [
        {
          "output_type": "stream",
          "name": "stderr",
          "text": [
            "/usr/local/lib/python3.7/dist-packages/ipykernel_launcher.py:1: FutureWarning: Dropping of nuisance columns in DataFrame reductions (with 'numeric_only=None') is deprecated; in a future version this will raise TypeError.  Select only valid columns before calling the reduction.\n",
            "  \"\"\"Entry point for launching an IPython kernel.\n"
          ]
        },
        {
          "output_type": "execute_result",
          "data": {
            "text/plain": [
              "year            1.183396e+01\n",
              "price           2.311367e+08\n",
              "miles_driven    1.593628e+09\n",
              "mileage         8.189804e+01\n",
              "horse_power     1.758363e+03\n",
              "seats           6.928968e-01\n",
              "dtype: float64"
            ]
          },
          "metadata": {},
          "execution_count": 14
        }
      ]
    },
    {
      "cell_type": "markdown",
      "source": [
        "(b) *Interpretation of the skewness of the quantitative variables:* Each of the variables relate to the entire data set differently. Four variables are highly skewed with a skewness value greater than 1: Miles driven, price, seats, and horsepower. Miles driven is the most highly skewed variable in the dataset. Year is moderately skewed with a skewness value between -1 and -0.5 and mileage is the most symmetrically skewed with a skewness value between -0.5 and 0.5.  \n"
      ],
      "metadata": {
        "id": "ou6v9JIGnN5T"
      }
    },
    {
      "cell_type": "code",
      "source": [
        "import pandas as pd\n",
        "df = pd.read_csv(\"Vehicle_Inventory.csv\")\n",
        "df"
      ],
      "metadata": {
        "colab": {
          "base_uri": "https://localhost:8080/",
          "height": 488
        },
        "id": "jIeyXoEJnRcS",
        "outputId": "01e075ba-4a15-4b95-b4be-5b52f292b0d8"
      },
      "execution_count": 15,
      "outputs": [
        {
          "output_type": "execute_result",
          "data": {
            "text/plain": [
              "       name  year   price  miles_driven   Region      fuel transmission  \\\n",
              "0      Audi  2010    9733         34650     West  Gasoline    Automatic   \n",
              "1      Audi  2017   22533          5040    South  Gasoline    Automatic   \n",
              "2      Audi  2014   21333         27720    South    Diesel    Automatic   \n",
              "3      Audi  2017   34667         44100  Central    Diesel    Automatic   \n",
              "4      Audi  2019   82973          4914  Central  Gasoline    Automatic   \n",
              "...     ...   ...     ...           ...      ...       ...          ...   \n",
              "3318  Volvo  2019   50667         12600     West    Diesel    Automatic   \n",
              "3319  Volvo  2019   50667         12600  Central    Diesel    Automatic   \n",
              "3320  Volvo  2019   73333         10710    South    Diesel    Automatic   \n",
              "3321  Volvo  2018   73333         31500  Central    Diesel    Automatic   \n",
              "3322  Volvo  2017  133333         18900     East  Gasoline    Automatic   \n",
              "\n",
              "      mileage  horse_power  seats  \n",
              "0     28.9050       163.20      5  \n",
              "1     39.0100       177.50      5  \n",
              "2     38.8925       147.51      5  \n",
              "3     47.8930       143.00      5  \n",
              "4     35.8610       187.74      5  \n",
              "...       ...          ...    ...  \n",
              "3318  42.3000       190.00      5  \n",
              "3319  42.3000       190.00      5  \n",
              "3320  42.3000       190.00      5  \n",
              "3321  26.3200       235.00      5  \n",
              "3322  98.7000       400.00      4  \n",
              "\n",
              "[3323 rows x 10 columns]"
            ],
            "text/html": [
              "\n",
              "  <div id=\"df-bf25a9f9-1bd5-4845-a310-3d3a27729b92\">\n",
              "    <div class=\"colab-df-container\">\n",
              "      <div>\n",
              "<style scoped>\n",
              "    .dataframe tbody tr th:only-of-type {\n",
              "        vertical-align: middle;\n",
              "    }\n",
              "\n",
              "    .dataframe tbody tr th {\n",
              "        vertical-align: top;\n",
              "    }\n",
              "\n",
              "    .dataframe thead th {\n",
              "        text-align: right;\n",
              "    }\n",
              "</style>\n",
              "<table border=\"1\" class=\"dataframe\">\n",
              "  <thead>\n",
              "    <tr style=\"text-align: right;\">\n",
              "      <th></th>\n",
              "      <th>name</th>\n",
              "      <th>year</th>\n",
              "      <th>price</th>\n",
              "      <th>miles_driven</th>\n",
              "      <th>Region</th>\n",
              "      <th>fuel</th>\n",
              "      <th>transmission</th>\n",
              "      <th>mileage</th>\n",
              "      <th>horse_power</th>\n",
              "      <th>seats</th>\n",
              "    </tr>\n",
              "  </thead>\n",
              "  <tbody>\n",
              "    <tr>\n",
              "      <th>0</th>\n",
              "      <td>Audi</td>\n",
              "      <td>2010</td>\n",
              "      <td>9733</td>\n",
              "      <td>34650</td>\n",
              "      <td>West</td>\n",
              "      <td>Gasoline</td>\n",
              "      <td>Automatic</td>\n",
              "      <td>28.9050</td>\n",
              "      <td>163.20</td>\n",
              "      <td>5</td>\n",
              "    </tr>\n",
              "    <tr>\n",
              "      <th>1</th>\n",
              "      <td>Audi</td>\n",
              "      <td>2017</td>\n",
              "      <td>22533</td>\n",
              "      <td>5040</td>\n",
              "      <td>South</td>\n",
              "      <td>Gasoline</td>\n",
              "      <td>Automatic</td>\n",
              "      <td>39.0100</td>\n",
              "      <td>177.50</td>\n",
              "      <td>5</td>\n",
              "    </tr>\n",
              "    <tr>\n",
              "      <th>2</th>\n",
              "      <td>Audi</td>\n",
              "      <td>2014</td>\n",
              "      <td>21333</td>\n",
              "      <td>27720</td>\n",
              "      <td>South</td>\n",
              "      <td>Diesel</td>\n",
              "      <td>Automatic</td>\n",
              "      <td>38.8925</td>\n",
              "      <td>147.51</td>\n",
              "      <td>5</td>\n",
              "    </tr>\n",
              "    <tr>\n",
              "      <th>3</th>\n",
              "      <td>Audi</td>\n",
              "      <td>2017</td>\n",
              "      <td>34667</td>\n",
              "      <td>44100</td>\n",
              "      <td>Central</td>\n",
              "      <td>Diesel</td>\n",
              "      <td>Automatic</td>\n",
              "      <td>47.8930</td>\n",
              "      <td>143.00</td>\n",
              "      <td>5</td>\n",
              "    </tr>\n",
              "    <tr>\n",
              "      <th>4</th>\n",
              "      <td>Audi</td>\n",
              "      <td>2019</td>\n",
              "      <td>82973</td>\n",
              "      <td>4914</td>\n",
              "      <td>Central</td>\n",
              "      <td>Gasoline</td>\n",
              "      <td>Automatic</td>\n",
              "      <td>35.8610</td>\n",
              "      <td>187.74</td>\n",
              "      <td>5</td>\n",
              "    </tr>\n",
              "    <tr>\n",
              "      <th>...</th>\n",
              "      <td>...</td>\n",
              "      <td>...</td>\n",
              "      <td>...</td>\n",
              "      <td>...</td>\n",
              "      <td>...</td>\n",
              "      <td>...</td>\n",
              "      <td>...</td>\n",
              "      <td>...</td>\n",
              "      <td>...</td>\n",
              "      <td>...</td>\n",
              "    </tr>\n",
              "    <tr>\n",
              "      <th>3318</th>\n",
              "      <td>Volvo</td>\n",
              "      <td>2019</td>\n",
              "      <td>50667</td>\n",
              "      <td>12600</td>\n",
              "      <td>West</td>\n",
              "      <td>Diesel</td>\n",
              "      <td>Automatic</td>\n",
              "      <td>42.3000</td>\n",
              "      <td>190.00</td>\n",
              "      <td>5</td>\n",
              "    </tr>\n",
              "    <tr>\n",
              "      <th>3319</th>\n",
              "      <td>Volvo</td>\n",
              "      <td>2019</td>\n",
              "      <td>50667</td>\n",
              "      <td>12600</td>\n",
              "      <td>Central</td>\n",
              "      <td>Diesel</td>\n",
              "      <td>Automatic</td>\n",
              "      <td>42.3000</td>\n",
              "      <td>190.00</td>\n",
              "      <td>5</td>\n",
              "    </tr>\n",
              "    <tr>\n",
              "      <th>3320</th>\n",
              "      <td>Volvo</td>\n",
              "      <td>2019</td>\n",
              "      <td>73333</td>\n",
              "      <td>10710</td>\n",
              "      <td>South</td>\n",
              "      <td>Diesel</td>\n",
              "      <td>Automatic</td>\n",
              "      <td>42.3000</td>\n",
              "      <td>190.00</td>\n",
              "      <td>5</td>\n",
              "    </tr>\n",
              "    <tr>\n",
              "      <th>3321</th>\n",
              "      <td>Volvo</td>\n",
              "      <td>2018</td>\n",
              "      <td>73333</td>\n",
              "      <td>31500</td>\n",
              "      <td>Central</td>\n",
              "      <td>Diesel</td>\n",
              "      <td>Automatic</td>\n",
              "      <td>26.3200</td>\n",
              "      <td>235.00</td>\n",
              "      <td>5</td>\n",
              "    </tr>\n",
              "    <tr>\n",
              "      <th>3322</th>\n",
              "      <td>Volvo</td>\n",
              "      <td>2017</td>\n",
              "      <td>133333</td>\n",
              "      <td>18900</td>\n",
              "      <td>East</td>\n",
              "      <td>Gasoline</td>\n",
              "      <td>Automatic</td>\n",
              "      <td>98.7000</td>\n",
              "      <td>400.00</td>\n",
              "      <td>4</td>\n",
              "    </tr>\n",
              "  </tbody>\n",
              "</table>\n",
              "<p>3323 rows × 10 columns</p>\n",
              "</div>\n",
              "      <button class=\"colab-df-convert\" onclick=\"convertToInteractive('df-bf25a9f9-1bd5-4845-a310-3d3a27729b92')\"\n",
              "              title=\"Convert this dataframe to an interactive table.\"\n",
              "              style=\"display:none;\">\n",
              "        \n",
              "  <svg xmlns=\"http://www.w3.org/2000/svg\" height=\"24px\"viewBox=\"0 0 24 24\"\n",
              "       width=\"24px\">\n",
              "    <path d=\"M0 0h24v24H0V0z\" fill=\"none\"/>\n",
              "    <path d=\"M18.56 5.44l.94 2.06.94-2.06 2.06-.94-2.06-.94-.94-2.06-.94 2.06-2.06.94zm-11 1L8.5 8.5l.94-2.06 2.06-.94-2.06-.94L8.5 2.5l-.94 2.06-2.06.94zm10 10l.94 2.06.94-2.06 2.06-.94-2.06-.94-.94-2.06-.94 2.06-2.06.94z\"/><path d=\"M17.41 7.96l-1.37-1.37c-.4-.4-.92-.59-1.43-.59-.52 0-1.04.2-1.43.59L10.3 9.45l-7.72 7.72c-.78.78-.78 2.05 0 2.83L4 21.41c.39.39.9.59 1.41.59.51 0 1.02-.2 1.41-.59l7.78-7.78 2.81-2.81c.8-.78.8-2.07 0-2.86zM5.41 20L4 18.59l7.72-7.72 1.47 1.35L5.41 20z\"/>\n",
              "  </svg>\n",
              "      </button>\n",
              "      \n",
              "  <style>\n",
              "    .colab-df-container {\n",
              "      display:flex;\n",
              "      flex-wrap:wrap;\n",
              "      gap: 12px;\n",
              "    }\n",
              "\n",
              "    .colab-df-convert {\n",
              "      background-color: #E8F0FE;\n",
              "      border: none;\n",
              "      border-radius: 50%;\n",
              "      cursor: pointer;\n",
              "      display: none;\n",
              "      fill: #1967D2;\n",
              "      height: 32px;\n",
              "      padding: 0 0 0 0;\n",
              "      width: 32px;\n",
              "    }\n",
              "\n",
              "    .colab-df-convert:hover {\n",
              "      background-color: #E2EBFA;\n",
              "      box-shadow: 0px 1px 2px rgba(60, 64, 67, 0.3), 0px 1px 3px 1px rgba(60, 64, 67, 0.15);\n",
              "      fill: #174EA6;\n",
              "    }\n",
              "\n",
              "    [theme=dark] .colab-df-convert {\n",
              "      background-color: #3B4455;\n",
              "      fill: #D2E3FC;\n",
              "    }\n",
              "\n",
              "    [theme=dark] .colab-df-convert:hover {\n",
              "      background-color: #434B5C;\n",
              "      box-shadow: 0px 1px 3px 1px rgba(0, 0, 0, 0.15);\n",
              "      filter: drop-shadow(0px 1px 2px rgba(0, 0, 0, 0.3));\n",
              "      fill: #FFFFFF;\n",
              "    }\n",
              "  </style>\n",
              "\n",
              "      <script>\n",
              "        const buttonEl =\n",
              "          document.querySelector('#df-bf25a9f9-1bd5-4845-a310-3d3a27729b92 button.colab-df-convert');\n",
              "        buttonEl.style.display =\n",
              "          google.colab.kernel.accessAllowed ? 'block' : 'none';\n",
              "\n",
              "        async function convertToInteractive(key) {\n",
              "          const element = document.querySelector('#df-bf25a9f9-1bd5-4845-a310-3d3a27729b92');\n",
              "          const dataTable =\n",
              "            await google.colab.kernel.invokeFunction('convertToInteractive',\n",
              "                                                     [key], {});\n",
              "          if (!dataTable) return;\n",
              "\n",
              "          const docLinkHtml = 'Like what you see? Visit the ' +\n",
              "            '<a target=\"_blank\" href=https://colab.research.google.com/notebooks/data_table.ipynb>data table notebook</a>'\n",
              "            + ' to learn more about interactive tables.';\n",
              "          element.innerHTML = '';\n",
              "          dataTable['output_type'] = 'display_data';\n",
              "          await google.colab.output.renderOutput(dataTable, element);\n",
              "          const docLink = document.createElement('div');\n",
              "          docLink.innerHTML = docLinkHtml;\n",
              "          element.appendChild(docLink);\n",
              "        }\n",
              "      </script>\n",
              "    </div>\n",
              "  </div>\n",
              "  "
            ]
          },
          "metadata": {},
          "execution_count": 15
        }
      ]
    },
    {
      "cell_type": "code",
      "source": [
        "df.skew(axis=0, skipna=True)"
      ],
      "metadata": {
        "colab": {
          "base_uri": "https://localhost:8080/"
        },
        "id": "5fCMAcMSnVv5",
        "outputId": "c41f617a-fcc7-4823-c3f1-81a20dfbbec2"
      },
      "execution_count": 16,
      "outputs": [
        {
          "output_type": "stream",
          "name": "stderr",
          "text": [
            "/usr/local/lib/python3.7/dist-packages/ipykernel_launcher.py:1: FutureWarning: Dropping of nuisance columns in DataFrame reductions (with 'numeric_only=None') is deprecated; in a future version this will raise TypeError.  Select only valid columns before calling the reduction.\n",
            "  \"\"\"Entry point for launching an IPython kernel.\n"
          ]
        },
        {
          "output_type": "execute_result",
          "data": {
            "text/plain": [
              "year            -0.701710\n",
              "price            2.817747\n",
              "miles_driven    15.066675\n",
              "mileage         -0.303643\n",
              "horse_power      1.400061\n",
              "seats            2.761316\n",
              "dtype: float64"
            ]
          },
          "metadata": {},
          "execution_count": 16
        }
      ]
    },
    {
      "cell_type": "markdown",
      "source": [
        "(c) *Correlated quantitative variables?* The quantitative variables that are most closely correlated are **Price**, **Miles Driven** and **Year**. Price and year have a positive correlation, as the year increases, the price of the vehicle increases. Miles Driven and Year have a positive correlation, whereby the older the year of the car, the greater the mean mileage is for the year. \n",
        "    \n",
        "    \n",
        "*Which variables are most effective in predicting the price?* The variables that are most effective in predicting price are (Brand) Name and Year. "
      ],
      "metadata": {
        "id": "_5nMrnd8nYoH"
      }
    }
  ]
}
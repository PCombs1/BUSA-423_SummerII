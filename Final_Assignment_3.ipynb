{
  "nbformat": 4,
  "nbformat_minor": 0,
  "metadata": {
    "colab": {
      "name": "Final_Assignment 3",
      "provenance": [],
      "collapsed_sections": []
    },
    "kernelspec": {
      "name": "python3",
      "display_name": "Python 3"
    },
    "language_info": {
      "name": "python"
    }
  },
  "cells": [
    {
      "cell_type": "markdown",
      "source": [
        "Create class to store student records:\n",
        "Attributes:  \n",
        "\n",
        "*  First Name\n",
        "*  Last Name\n",
        "*  Country\n",
        "*  Overall grade (0-4.0 scale)\n",
        "*  Credits completed\n",
        "*  Major\n",
        "\n",
        "Evaluate student performance and print \"Good, Average, Bad\" -- \n",
        "• “Good”: if grades > 3.0 and credits completed is > 20\n",
        "• “Average”: if grades > 2.5 but < 3.0 or credits completed is between 10 and 20\n",
        "• “Bad”: if grades < 2.5"
      ],
      "metadata": {
        "id": "m1PR66Cbtv4t"
      }
    },
    {
      "cell_type": "code",
      "source": [
        "class student:\n",
        "\n",
        "  def __init__(self, firstname, lastname, country, overallgrade, creditscompleted, major):\n",
        "    self.firstname = firstname\n",
        "    self.lastname = lastname\n",
        "    self.country = country\n",
        "    self.overallgrade = float(overallgrade)\n",
        "    self.creditscompleted = int(creditscompleted)\n",
        "    self.major = major\n",
        "\n",
        "  def performance(self):\n",
        "    if(self.overallgrade < 2.5):\n",
        "      print(\"Bad\")\n",
        "    elif(self.overallgrade >= 2.5 and self.overallgrade <3.0 or (self.creditscompleted >10 and self.creditscompleted <20)):\n",
        "      print(\"Average\")\n",
        "    elif(self.overallgrade >= 3.0 and (self.creditscompleted >20)):\n",
        "      print(\"Good\")\n",
        "\n",
        "student_1 = student(\"Jane\", \"Doe\", \"USA\", float(3.0), int(15), \"Business\")\n",
        "student_1.performance()\n",
        "student_2 = student(\"John\", \"Doe\", \"USA\", float(2.0), int(25), \"English\")\n",
        "student_2.performance()\n",
        "student_3 = student(\"Jack\", \"Smith\", \"USA\", float(4.0), int(28), \"English\")\n",
        "student_3.performance()\n",
        "student_4 = student(\"James\", \"Smith\", \"USA\", float(2.5), int(22), \"Business\")\n",
        "student_4.performance()\n",
        "student_5 = student(\"Jennifer\", \"Johnson\", \"USA\", float(3.5), int(28), \"Business\")\n",
        "student_5.performance()\n",
        "\n"
      ],
      "metadata": {
        "colab": {
          "base_uri": "https://localhost:8080/"
        },
        "id": "DjWJ5MrNQa0B",
        "outputId": "c629bd8b-02b0-49ab-ff56-e56ef629c3d7"
      },
      "execution_count": 28,
      "outputs": [
        {
          "output_type": "stream",
          "name": "stdout",
          "text": [
            "Average\n",
            "Bad\n",
            "Good\n",
            "Average\n",
            "Good\n"
          ]
        }
      ]
    },
    {
      "cell_type": "code",
      "source": [
        "def split(numbers_list):\n",
        "    positive = []\n",
        "    negative = []\n",
        "    for number in numbers_list:\n",
        "        if number > 0:\n",
        "             positive.append(number)\n",
        "        elif number < 0:\n",
        "             negative.append(number)\n",
        "    return negative, positive\n",
        " \n",
        "\n",
        "numbers_list = [-6,5,-3,-2,1,0,-8,9,3]\n",
        "negative, positive = split(numbers_list)\n",
        "\n",
        "print(\"Output:\" + str(split(numbers_list)))"
      ],
      "metadata": {
        "colab": {
          "base_uri": "https://localhost:8080/"
        },
        "id": "OaKR5LBBkqC3",
        "outputId": "cd520071-9f4b-44d9-d99c-934ac448a6d1"
      },
      "execution_count": 29,
      "outputs": [
        {
          "output_type": "stream",
          "name": "stdout",
          "text": [
            "Output:([-6, -3, -2, -8], [5, 1, 9, 3])\n"
          ]
        }
      ]
    },
    {
      "cell_type": "code",
      "source": [
        "def Winning_Possibilities(number):\n",
        "  chances = []\n",
        "  for i in range(1,12):\n",
        "    for j in range(i,12):\n",
        "      if(number <i+j and i+j <22):\n",
        "        chances.append([i,j])\n",
        "      elif number < 15 or number > 21:\n",
        "        print(\"Error. Invalid Score\") \n",
        "\n",
        "  print(\"Winning_Possibilities =\", chances)\n",
        "\n",
        "n = int(input(\"Please type in your final score = \"))\n",
        "Winning_Possibilities(n)  "
      ],
      "metadata": {
        "colab": {
          "base_uri": "https://localhost:8080/"
        },
        "id": "CEBXdZzmEful",
        "outputId": "d8a0642e-1736-41f2-8159-de3e3891a831"
      },
      "execution_count": 10,
      "outputs": [
        {
          "output_type": "stream",
          "name": "stdout",
          "text": [
            "Please type in your final score = 19\n",
            "Winning_Possibilities = [[9, 11], [10, 10], [10, 11]]\n"
          ]
        }
      ]
    },
    {
      "cell_type": "code",
      "source": [
        "For #2 -- 1 step; Big-O: O(n log n)\n",
        "For #3 -- 2 steps; Big-O: O(n2)"
      ],
      "metadata": {
        "id": "gIAILwqI0BZ2"
      },
      "execution_count": null,
      "outputs": []
    }
  ]
}
